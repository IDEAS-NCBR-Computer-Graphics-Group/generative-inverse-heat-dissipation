{
 "cells": [
  {
   "cell_type": "code",
   "execution_count": 1,
   "metadata": {
    "id": "_VKWZkbNxwxY"
   },
   "outputs": [],
   "source": [
    "import numpy as np\n",
    "from numpy.testing import assert_almost_equal, assert_equal\n",
    "import scipy.fftpack as fft\n",
    "import matplotlib.pyplot as plt\n",
    "import math\n",
    "\n",
    "from scipy.stats import norm, chi\n",
    "import numpy as np\n",
    "import matplotlib.pyplot as plt\n",
    "from scipy.stats import chi\n",
    "from scipy.optimize import curve_fit\n",
    "\n",
    "np.random.seed(123)"
   ]
  },
  {
   "cell_type": "code",
   "execution_count": null,
   "metadata": {
    "id": "xzGwnSy5Hp3d"
   },
   "outputs": [],
   "source": []
  },
  {
   "cell_type": "markdown",
   "metadata": {
    "id": "Y7oU5ZmWoeRj"
   },
   "source": [
    "# Scalling\n",
    "\n",
    "```\n",
    "FFHQ_128\n",
    "2024-10-16 10:29:04 root         INFO     [LBM_Base_Corruptor.py:137] Preprocessing (lbm) 0\n",
    "2024-10-16 10:30:17 root         INFO     [LBM_Base_Corruptor.py:137] Preprocessing (lbm) 1000\n",
    "On A100 GPU it takes ~ 1 min to process 1000 images with 128x128 resolution (steps=uniform_rand(0,100) thus the dataset with 70 000 images is processed in ~1h 10min.\n",
    "\n",
    "python train_corrupted.py --config configs/ffhq/res_256/ffhq_256_lbm_ns_config_lin_visc.py\n",
    "2024-10-20 21:09:15 root         INFO     [LBM_Base_Corruptor.py:116] Preprocessing (lbm) 0\n",
    "2024-10-20 21:11:11 root         INFO     [LBM_Base_Corruptor.py:116] Preprocessing (lbm) 1000\n",
    "\n",
    "On A100 GPU it takes ~ 2 min to process 1000 images with 256x256 resolution (steps=uniform_rand(0,100) thus the dataset with 70 000 images is processed in ~2h 20min.\n",
    "\n",
    "\n",
    "python train_corrupted.py --config configs/ffhq/res_512/ffhq_512_lbm_ns_config_lin_visc.py\n",
    "2024-10-20 21:07:30 root         INFO     [LBM_Base_Corruptor.py:116] Preprocessing (lbm) 0\n",
    "2024-10-20 21:10:09 root         INFO     [LBM_Base_Corruptor.py:116] Preprocessing (lbm) 1000\n",
    "\n",
    "\n",
    "On A100 GPU it takes ~ 2.5 min to process 1000 images with 512x512 resolution (steps=uniform_rand(0,100) thus the dataset with 70 000 images is processed in ~3h.\n",
    "\n",
    "\n",
    "python train_corrupted.py --config configs/ffhq/res_1024/ffhq_1024_lbm_ns_config_lin_visc.py\n",
    "2024-10-20 21:05:58 root         INFO     [LBM_Base_Corruptor.py:116] Preprocessing (lbm) 0\n",
    "2024-10-20 21:11:39 root         INFO     [LBM_Base_Corruptor.py:116] Preprocessing (lbm) 1000\n",
    "\n",
    "On A100 GPU it takes ~ 6 min to process 1000 images with 1024x1024 resolution (steps=uniform_rand(0,100) thus the dataset with 70 000 images is processed in ~7h.\n",
    "```"
   ]
  },
  {
   "cell_type": "code",
   "execution_count": 3,
   "metadata": {
    "colab": {
     "base_uri": "https://localhost:8080/",
     "height": 500
    },
    "executionInfo": {
     "elapsed": 401,
     "status": "ok",
     "timestamp": 1731927560628,
     "user": {
      "displayName": "Michał Włodarczyk",
      "userId": "08384206839877546215"
     },
     "user_tz": -60
    },
    "id": "Bp_o4G7QoaYS",
    "outputId": "a486aa2d-ed1f-4e13-9a0a-4c2d62ee283b"
   },
   "outputs": [],
   "source": [
    "img_resolution = np.array([128,256,512,1024])\n",
    "time = np.array([85, 135, 185, 393])/60\n",
    "\n",
    "fig = plt.figure(figsize=(6, 6))\n",
    "ax = fig.add_axes([0.2, 0.2, 0.7, 0.7])  # [left, bottom, width, height] as fractions of the figure size\n",
    "plt.plot(img_resolution, time, 'rx', label=f'Time to process 70k dataset')\n",
    "ax.grid(True, which=\"both\", ls=\"--\")\n",
    "ax.set_xlabel(r\"img size\")\n",
    "ax.set_ylabel(r\"time [h]\")\n",
    "plt.xticks(img_resolution)\n",
    "\n",
    "plt.legend()\n",
    "plt.show()"
   ]
  },
  {
   "cell_type": "markdown",
   "metadata": {
    "id": "iIt7qGOroa3v"
   },
   "source": [
    "# Schedulers"
   ]
  },
  {
   "cell_type": "code",
   "execution_count": 4,
   "metadata": {
    "id": "-UT8Fd3HBhb4"
   },
   "outputs": [],
   "source": [
    "\n",
    "def exp_schedule(min_value, max_value, n, dtype=float):\n",
    "    return np.exp(np.linspace(np.log(min_value), np.log(max_value), n)).astype(dtype)\n",
    "\n",
    "def lin_schedule(min_value, max_value, n, dtype=float):\n",
    "    return np.linspace(min_value, max_value, n).astype(dtype)\n",
    "\n",
    "def cosine_beta_schedule(min_value, max_value, n, s=0.008, dtype=float):\n",
    "    \"\"\"\n",
    "    Rescaled cosine schedule as proposed in https://arxiv.org/abs/2102.09672\n",
    "    \"\"\"\n",
    "    x = np.linspace(0, n, n)\n",
    "    alphas_cumprod = np.cos(((x / n) + s) / (1 + s) * np.pi * 0.5) ** 2\n",
    "    alphas_cumprod = alphas_cumprod / alphas_cumprod[0]\n",
    "    betas = 1-(alphas_cumprod[1:] / alphas_cumprod[:-1])\n",
    "\n",
    "    # Rescale betas\n",
    "    betas_scaled = betas * (max_value - min_value) + min_value\n",
    "\n",
    "    # Rescale 1-alphas_cumprod\n",
    "    alphas_scaled =  alphas_cumprod * (max_value - min_value) + min_value\n",
    "\n",
    "    return betas_scaled.astype(dtype), alphas_scaled.astype(dtype)\n",
    "\n",
    "def inv_cosine_aplha_schedule(min_value, max_value, n, s=0.008, dtype=float):\n",
    "    \"\"\"\n",
    "    Insipredd by schedule proposed in https://arxiv.org/abs/2102.09672\n",
    "    \"\"\"\n",
    "    x = np.linspace(0, n, n)\n",
    "    alphas_cumprod = np.cos(((x / n) + s) / (1 + s) * np.pi * 0.5) ** 2\n",
    "    alphas_cumprod = alphas_cumprod / alphas_cumprod[0]\n",
    "\n",
    "    # Rescale 1-alphas_cumprod\n",
    "    alphas_inv_scaled =  (alphas_cumprod) * (max_value - min_value) + min_value\n",
    "    return np.flip(alphas_inv_scaled).astype(dtype)\n",
    "\n",
    "def tanh_schedule(min_value, max_value, n, steepness = 0.005, dtype=float):\n",
    "    x = np.linspace(-500, 500, n)\n",
    "    result = (np.tanh(steepness*x) + 1) / 2\n",
    "    result_scaled = result * (max_value - min_value) + min_value\n",
    "    return result_scaled.astype(dtype)\n",
    "\n",
    "def log_schedule(min_value, max_value, n, log_base=2.0, dtype=int):\n",
    "    starting_lbm_steps_pow = np.emath.logn(log_base, min_value)\n",
    "    final_lbm_steps_pow = np.emath.logn(log_base, max_value)\n",
    "\n",
    "    # python 3.10 --> math.pow\n",
    "    # python 3.12 --> np.pow\n",
    "    if math.pow(log_base, final_lbm_steps_pow) != max_value:\n",
    "        final_lbm_steps_pow += 2 * np.finfo(float).eps\n",
    "\n",
    "    schedule = np.logspace(\n",
    "        starting_lbm_steps_pow,final_lbm_steps_pow,\n",
    "        n, base=log_base)\n",
    "\n",
    "    return schedule.astype(dtype)"
   ]
  },
  {
   "cell_type": "markdown",
   "metadata": {
    "id": "5YCpQ4xECAid"
   },
   "source": [
    "### setup"
   ]
  },
  {
   "cell_type": "code",
   "execution_count": 5,
   "metadata": {
    "id": "HqlpZJSwBxIC"
   },
   "outputs": [],
   "source": [
    "min_solver_steps = 1\n",
    "max_solver_steps = 250\n",
    "n_elements = 100 # aka denoising steps\n",
    "\n",
    "\n",
    "y_lin_sched = lin_schedule(min_solver_steps, max_solver_steps, n_elements, int)\n",
    "y_exp_sched = exp_schedule(min_solver_steps, max_solver_steps, n_elements, int)\n",
    "y_log_sched = log_schedule(min_solver_steps, max_solver_steps, n_elements, log_base=10.0,  dtype=int)\n",
    "\n",
    "y_tanh_sched = tanh_schedule(min_solver_steps, max_solver_steps, n_elements, dtype=int)\n",
    "y_inv_cos_alpha_shed = inv_cosine_aplha_schedule(min_solver_steps, max_solver_steps, n_elements, dtype=int)"
   ]
  },
  {
   "cell_type": "code",
   "execution_count": 6,
   "metadata": {
    "colab": {
     "base_uri": "https://localhost:8080/",
     "height": 658
    },
    "executionInfo": {
     "elapsed": 804,
     "status": "ok",
     "timestamp": 1731927561427,
     "user": {
      "displayName": "Michał Włodarczyk",
      "userId": "08384206839877546215"
     },
     "user_tz": -60
    },
    "id": "vvfNtEEV-XOV",
    "outputId": "a3fb4696-2bad-48fa-a6df-9fefae1011b9"
   },
   "outputs": [],
   "source": [
    "fig = plt.figure(figsize=(14, 8))\n",
    "\n",
    "# Create Axes with space for the title and labels\n",
    "ax = fig.add_axes([0.2, 0.2, 0.7, 0.7])  # [left, bottom, width, height] as fractions of the figure size\n",
    "\n",
    "# plt.plot(y_lin_sched, '<',label=\"y_lin_sched\", color='green')\n",
    "# plt.plot(np.unique(y_lin_sched), '<', label=\"unique y_lin_sched\", color='blue')\n",
    "\n",
    "plt.plot(y_exp_sched, 'x',label=\"y_exp_sched\", color='green')\n",
    "plt.plot(np.unique(y_exp_sched), 'x', label=\"unique y_exp_sched\", color='blue')\n",
    "\n",
    "plt.plot(y_log_sched, 'P',label=\"y_log_sched\", color='green')\n",
    "plt.plot(np.unique(y_log_sched), 'P', label=\"unique y_log_sched\", color='blue')\n",
    "\n",
    "plt.plot(y_tanh_sched, 'X',label=\"y_tanh_sched\", color='green')\n",
    "plt.plot(np.unique(y_tanh_sched), 'X', label=\"unique y_tanh_sched\", color='blue')\n",
    "\n",
    "plt.plot(y_inv_cos_alpha_shed, '>',label=\"y_inv_cos_alpha_shed\", color='green')\n",
    "plt.plot(np.unique(y_inv_cos_alpha_shed), '>', label=\"unique y_inv_cos_alpha_shed\", color='blue')\n",
    "\n",
    "# Add grid and labels\n",
    "ax.grid(True, which=\"both\", ls=\"--\")\n",
    "ax.set_xlabel(r\"input time\")\n",
    "ax.set_ylabel(r\"scheduler\")\n",
    "\n",
    "plt.legend()\n"
   ]
  },
  {
   "cell_type": "code",
   "execution_count": 7,
   "metadata": {
    "colab": {
     "base_uri": "https://localhost:8080/"
    },
    "executionInfo": {
     "elapsed": 7,
     "status": "ok",
     "timestamp": 1731927561428,
     "user": {
      "displayName": "Michał Włodarczyk",
      "userId": "08384206839877546215"
     },
     "user_tz": -60
    },
    "id": "pslimU0Kkq77",
    "outputId": "543599c8-cd03-4a09-b6f6-d9eafcbae179"
   },
   "outputs": [],
   "source": [
    "len(np.unique(y_exp_sched))\n",
    "len(np.unique(y_log_sched))"
   ]
  },
  {
   "cell_type": "markdown",
   "metadata": {
    "id": "PdYah_Ja7XOV"
   },
   "source": [
    "## some other ideas\n",
    "\n",
    "which are **not** supercool"
   ]
  },
  {
   "cell_type": "code",
   "execution_count": 8,
   "metadata": {
    "colab": {
     "base_uri": "https://localhost:8080/",
     "height": 750
    },
    "executionInfo": {
     "elapsed": 413,
     "status": "ok",
     "timestamp": 1731927561836,
     "user": {
      "displayName": "Michał Włodarczyk",
      "userId": "08384206839877546215"
     },
     "user_tz": -60
    },
    "id": "MFavcT6HzsGZ",
    "outputId": "ad2386f6-4346-41e7-8b34-87c58ead69f1"
   },
   "outputs": [],
   "source": [
    "from functools import reduce\n",
    "\n",
    "\n",
    "fibonacci_gen = lambda n: reduce(lambda x, _: x + [x[-1] + x[-2]], range(n - 2), [0, 1])\n",
    "fibonacci_numbers = fibonacci_gen(18)\n",
    "\n",
    "triangular_numbers_gen = lambda n: n*(n+1)/2\n",
    "triangular_numbers = np.array([triangular_numbers_gen(k) for k in range(50)]).astype(int)\n",
    "\n",
    "print(fibonacci_numbers)\n",
    "print(triangular_numbers)\n",
    "\n",
    "fig = plt.figure(figsize=(8, 8))\n",
    "\n",
    "# Create Axes with space for the title and labels\n",
    "ax = fig.add_axes([0.2, 0.2, 0.7, 0.7])  # [left, bottom, width, height] as fractions of the figure size\n",
    "\n",
    "# Plot the current energy spectrum\n",
    "plt.plot(fibonacci_numbers , 'gx', label=f'fibonacci_numbers')\n",
    "plt.plot(triangular_numbers , 'bx', label=f'triangular_numbers')\n",
    "\n",
    "# Add grid and labels\n",
    "ax.grid(True, which=\"both\", ls=\"--\")\n",
    "ax.set_xlabel(r\"input time\")\n",
    "ax.set_ylabel(r\"tweaked time\")\n",
    "\n",
    "plt.legend()"
   ]
  },
  {
   "cell_type": "code",
   "execution_count": 9,
   "metadata": {
    "id": "ALnuwcmOye4Q"
   },
   "outputs": [],
   "source": [
    "K = 100\n",
    "blur_sigma_max = 200\n",
    "blur_sigma_min = 1\n",
    "\n",
    "x = np.linspace(np.log(blur_sigma_min), np.log(blur_sigma_max), K)\n",
    "tweaked_time0 = np.exp(x)\n",
    "\n",
    "K_range = np.arange(0, K)"
   ]
  },
  {
   "cell_type": "code",
   "execution_count": 10,
   "metadata": {
    "colab": {
     "base_uri": "https://localhost:8080/"
    },
    "executionInfo": {
     "elapsed": 9,
     "status": "ok",
     "timestamp": 1731927561836,
     "user": {
      "displayName": "Michał Włodarczyk",
      "userId": "08384206839877546215"
     },
     "user_tz": -60
    },
    "id": "cB3HCDIS1Grd",
    "outputId": "b7419c6e-3457-4c12-c346-ebe75fb027de"
   },
   "outputs": [],
   "source": [
    "def integerize_array(N):\n",
    "  arr = np.arange(N)\n",
    "  arr = np.exp(arr)\n",
    "  arr = np.ceil(arr)  # Step 1: Ceil\n",
    "  arr = np.sort(arr)  # Step 2: Sort\n",
    "  arr = np.unique(arr)  # Step 3: Remove duplicates\n",
    "\n",
    "  #Adjust N to get 25 elements in the final array\n",
    "  while len(arr) != 25:\n",
    "    if len(arr) < 25:\n",
    "      N +=1\n",
    "    else:\n",
    "      N -=1\n",
    "    arr = np.arange(N)\n",
    "    arr = np.exp(arr)\n",
    "    arr = np.ceil(arr)\n",
    "    arr = int(arr)\n",
    "    arr = np.sort(arr)\n",
    "    arr = np.unique(arr)\n",
    "\n",
    "  return arr\n",
    "\n",
    "\n",
    "def integerize_array2(arr):\n",
    "  arr = np.ceil(arr)  # Step 1: Ceil\n",
    "  arr = np.sort(arr)  # Step 2: Sort\n",
    "  arr = np.unique(arr)  # Step 3: Remove duplicates,\n",
    "\n",
    "  # arr = arr.astype(int)\n",
    "  return arr\n",
    "\n",
    "\n",
    "tweaked_time1 = integerize_array(25) #start with N=25\n",
    "tweaked_time2 = integerize_array2(tweaked_time0) #start with N=25\n",
    "print(tweaked_time0)\n",
    "print(tweaked_time1.astype(int))\n",
    "print(tweaked_time2)\n",
    "len(tweaked_time2)"
   ]
  },
  {
   "cell_type": "code",
   "execution_count": 11,
   "metadata": {
    "colab": {
     "base_uri": "https://localhost:8080/"
    },
    "executionInfo": {
     "elapsed": 8,
     "status": "ok",
     "timestamp": 1731927561836,
     "user": {
      "displayName": "Michał Włodarczyk",
      "userId": "08384206839877546215"
     },
     "user_tz": -60
    },
    "id": "Lyu7aUF5K9uJ",
    "outputId": "4940454a-00b8-4068-df7f-fc30ff8afef7"
   },
   "outputs": [],
   "source": [
    "!python --version"
   ]
  },
  {
   "cell_type": "code",
   "execution_count": 12,
   "metadata": {
    "colab": {
     "base_uri": "https://localhost:8080/",
     "height": 658
    },
    "executionInfo": {
     "elapsed": 455,
     "status": "ok",
     "timestamp": 1731927562286,
     "user": {
      "displayName": "Michał Włodarczyk",
      "userId": "08384206839877546215"
     },
     "user_tz": -60
    },
    "id": "VGNBfZAYxjci",
    "outputId": "fb9e9cab-89c2-42d7-96da-fb9bf06d3148"
   },
   "outputs": [],
   "source": [
    "fig = plt.figure(figsize=(8, 8))\n",
    "\n",
    "# Create Axes with space for the title and labels\n",
    "ax = fig.add_axes([0.2, 0.2, 0.7, 0.7])  # [left, bottom, width, height] as fractions of the figure size\n",
    "\n",
    "# Plot the current energy spectrum\n",
    "plt.plot(tweaked_time0, 'rx', label=f'reference scheduler')\n",
    "plt.plot(tweaked_time2, 'gx', label=f'scheduler v2')\n",
    "\n",
    "# Add grid and labels\n",
    "ax.grid(True, which=\"both\", ls=\"--\")\n",
    "ax.set_xlabel(r\"input time\")\n",
    "ax.set_ylabel(r\"tweaked time\")\n",
    "\n",
    "plt.legend()"
   ]
  },
  {
   "cell_type": "markdown",
   "metadata": {
    "id": "i9IHIZpSybnk"
   },
   "source": [
    "# Time scheduler\n"
   ]
  },
  {
   "cell_type": "code",
   "execution_count": 13,
   "metadata": {
    "colab": {
     "base_uri": "https://localhost:8080/",
     "height": 220
    },
    "executionInfo": {
     "elapsed": 5,
     "status": "error",
     "timestamp": 1731927704350,
     "user": {
      "displayName": "Michał Włodarczyk",
      "userId": "08384206839877546215"
     },
     "user_tz": -60
    },
    "id": "DJ4_aQZHyXf0",
    "outputId": "37ba0550-5068-4ec8-900e-a67921dd384d"
   },
   "outputs": [],
   "source": [
    "# #ffhq128 - estimate\n",
    "# blur_sigma_max = 128 # blur_sigma_max=128 for 256x256 ffhq in default ihd config --> Fo = 0.001953125\n",
    "# L = 256\n",
    "\n",
    "blur_sigma_max = 16 # blur_sigma_max=32 for 128x128 ffhq config --> same Fo = 0.001953125\n",
    "L = 128\n",
    "\n",
    "final_lbm_step = 500\n",
    "max_fwd_steps = 200 # max_fwd_steps = 200 in default ihd config for 256x256 ffhq\n",
    "\n",
    "def exp_schedule(min_value, max_value, n, dtype=np.float32):\n",
    "    return np.exp(np.linspace(np.log(min_value), np.log(max_value), n)).astype(dtype)\n",
    "\n",
    "ihd_blur_schedule = exp_schedule(0.5, blur_sigma_max, max_fwd_steps )\n",
    "\n",
    "corrupt_sched = exp_schedule(1, final_lbm_step, max_fwd_steps, dtype=int)\n",
    "niu_sched = np.linspace(1/6, 1/6, max_solver_steps).astype(np.float32)\n",
    "\n",
    "niu0 = niu_sched[0]"
   ]
  },
  {
   "cell_type": "code",
   "execution_count": 14,
   "metadata": {
    "colab": {
     "base_uri": "https://localhost:8080/"
    },
    "executionInfo": {
     "elapsed": 6,
     "status": "ok",
     "timestamp": 1731927562793,
     "user": {
      "displayName": "Michał Włodarczyk",
      "userId": "08384206839877546215"
     },
     "user_tz": -60
    },
    "id": "I-EdGF2fyjbE",
    "outputId": "b0cb19f1-5d2f-4100-92ec-d0fc991c8135"
   },
   "outputs": [],
   "source": [
    "def calc_Fo(sigma, L):\n",
    "    Fo = sigma / (L*L)\n",
    "    return Fo\n",
    "\n",
    "Fo = calc_Fo(blur_sigma_max, L)\n",
    "# print(f\"Fo = {Fo}\")\n",
    "\n",
    "def get_timesteps_from_sigma(diffusivity, sigma):\n",
    "    # sigma = np.sqrt(2 * diffusivity * tc)\n",
    "    tc = sigma*sigma/(2*diffusivity)\n",
    "    return int(tc)\n",
    "\n",
    "lbm_iter = get_timesteps_from_sigma(niu0, blur_sigma_max)\n",
    "# print(f\"lbm_iter = {lbm_iter}\")\n",
    "\n",
    "def get_sigma_from_Fo(Fo, L):\n",
    "    sigma = Fo * L*L\n",
    "    return sigma\n",
    "\n",
    "assert_almost_equal(\n",
    "    get_sigma_from_Fo(Fo, L),\n",
    "    blur_sigma_max)\n",
    "\n",
    "print(f\"Fo={Fo}\\n sigma={get_sigma_from_Fo(Fo, L)} \\n\"\n",
    "      f\" lbm_iter={lbm_iter}\\n L ={L}\")\n",
    "############################################################\n",
    "\n",
    "def get_timesteps_from_Fo_niu_L(Fo, diffusivity, L):\n",
    "    # sigma = np.sqrt(2 * diffusivity * tc)\n",
    "    sigma = Fo * L*L\n",
    "    tc = sigma*sigma/(2*diffusivity)\n",
    "    return int(tc)\n",
    "\n",
    "assert_equal(get_timesteps_from_Fo_niu_L(Fo, niu0, L),\n",
    "    get_timesteps_from_sigma(niu0, blur_sigma_max))\n",
    "\n",
    "def recalculate_blur_schedule(blur_schedule, niu_sched, L):\n",
    "    \"\"\"Recalculates the blur schedule from sigmas to timesteps.\n",
    "\n",
    "    Args:\n",
    "        blur_schedule: A list of sigmas.\n",
    "        L: The size of the image.\n",
    "        niu: The diffusivity.\n",
    "\n",
    "    Returns:\n",
    "        A list of timesteps.\n",
    "    \"\"\"\n",
    "\n",
    "    timesteps_list = []\n",
    "    Fo_list = []\n",
    "    Fo_list.append(0.)\n",
    "    iter = 0\n",
    "    sum = 0\n",
    "\n",
    "    print(f\"iter \\t\\t Fo \\t sigma \\t\\t timesteps\")\n",
    "    for sigma in blur_schedule:\n",
    "        Fo = calc_Fo(sigma, L)\n",
    "        # TODO: this is messy\n",
    "        # niu has a schedule\n",
    "        # dFo = Fo_n - Fo_n_1\n",
    "        # dt_lbm = get_timesteps_from_Fo_niu_L(dFo, niu_sched[iter], L)\n",
    "\n",
    "        timesteps = get_timesteps_from_Fo_niu_L(Fo, niu_sched[iter], L)\n",
    "        print(f\"{iter} \\t\\t {Fo:.2e} \\t {sigma:.2f} \\t\\t {timesteps}\")\n",
    "        Fo_list.append(Fo)\n",
    "        timesteps_list.append(timesteps)\n",
    "        iter += 1\n",
    "        # print(iter)\\\n",
    "    return np.array(timesteps_list), np.array(Fo_list)\n",
    "\n",
    "\n",
    "def recalculate_blur_schedule_v2_WIP(blur_schedule, niu_sched, L):\n",
    "    \"\"\"Recalculates the blur schedule from sigmas to timesteps.\n",
    "\n",
    "    Args:\n",
    "        blur_schedule: A list of sigmas.\n",
    "        L: The size of the image.\n",
    "        niu: The diffusivity.\n",
    "\n",
    "    Returns:\n",
    "        A list of timesteps.\n",
    "    \"\"\"\n",
    "\n",
    "    timesteps_list = []\n",
    "    Fo_list = []\n",
    "    Fo_list.append(0.)\n",
    "    iter = 0\n",
    "    sum = 0\n",
    "    print(f\"iter \\t\\t Fo \\t sigma \\t\\t timesteps\")\n",
    "    for sigma in blur_schedule:\n",
    "        Fo = calc_Fo(sigma, L)\n",
    "        # TODO: this is messy\n",
    "        # niu has a schedule\n",
    "        # dFo = Fo_n - Fo_n_1\n",
    "        # dt_lbm = get_timesteps_from_Fo_niu_L(dFo, niu_sched[iter], L)\n",
    "\n",
    "        timesteps = get_timesteps_from_Fo_niu_L(Fo, niu_sched[iter], L)\n",
    "        print(f\"{iter} \\t\\t {Fo:.2e} \\t {sigma:.2f} \\t\\t {timesteps}\")\n",
    "        Fo_list.append(Fo)\n",
    "        timesteps_list.append(timesteps)\n",
    "        iter += 1\n",
    "        # print(iter)\\\n",
    "    return np.array(timesteps_list), np.array(Fo_list)\n",
    "\n",
    "\n",
    "def get_Fo_from_tc_niu_L(tc, diffusivity, L):\n",
    "    sigma = np.sqrt(2. * diffusivity * tc)\n",
    "    Fo = sigma / (L*L)\n",
    "    return Fo\n",
    "\n",
    "def calc_Fo_schedule(dtc_sched, niu_sched, L):\n",
    "    Fo_list = []\n",
    "    Fo_list.append(0.)\n",
    "    iter = 0\n",
    "\n",
    "    print(f\"iter \\t\\t Fo \\t dtc \\t\\t niu\")\n",
    "    for dtc, niu in zip(dtc_sched, niu_sched):\n",
    "        dFo = get_Fo_from_tc_niu_L(dtc, niu, L)\n",
    "        # print(f\"{Fo_list}\")\n",
    "        # print(f\"{dFo}\")\n",
    "\n",
    "        Fo = Fo_list[-1] + dFo\n",
    "        Fo_list.append(Fo)\n",
    "        iter += 1\n",
    "        print(f\"{iter} \\t\\t {Fo:.2e} \\t {dtc:.2f} \\t\\t {niu:.2e}\")\n",
    "    return np.array(Fo_list)\n",
    "\n"
   ]
  },
  {
   "cell_type": "code",
   "execution_count": 15,
   "metadata": {
    "colab": {
     "base_uri": "https://localhost:8080/",
     "height": 1000
    },
    "executionInfo": {
     "elapsed": 1009,
     "status": "ok",
     "timestamp": 1731927563797,
     "user": {
      "displayName": "Michał Włodarczyk",
      "userId": "08384206839877546215"
     },
     "user_tz": -60
    },
    "id": "epZCFD1t8U-K",
    "outputId": "38e6a86f-ef9f-4c59-c910-166a37025325"
   },
   "outputs": [],
   "source": [
    "lbm_ihd_timesteps_schedule, ihd_Fo_schedule = recalculate_blur_schedule(ihd_blur_schedule, niu_sched, L)\n",
    "\n",
    "fig = plt.figure(figsize=(8, 8))\n",
    "\n",
    "# Create Axes with space for the title and labels\n",
    "ax = fig.add_axes([0.2, 0.2, 0.7, 0.7])  # [left, bottom, width, height] as fractions of the figure size\n",
    "\n",
    "# Plot the current energy spectrum\n",
    "plt.plot(lbm_ihd_timesteps_schedule, 'rx', label=f'lbm_ihd_timesteps_schedule')\n",
    "plt.plot(np.unique(lbm_ihd_timesteps_schedule), 'gx', label=f'unique lbm_ihd_timesteps_schedule')\n",
    "\n",
    "# Add grid and labels\n",
    "ax.grid(True, which=\"both\", ls=\"--\")\n",
    "ax.set_xlabel(r\"input time\")\n",
    "ax.set_ylabel(r\"lbm steps\")\n",
    "\n",
    "plt.legend()\n",
    "# plt.close()\n",
    "\n",
    "\n",
    "###########################################\n",
    "fig = plt.figure(figsize=(8, 8))\n",
    "\n",
    "# Create Axes with space for the title and labels\n",
    "ax = fig.add_axes([0.2, 0.2, 0.7, 0.7])  # [left, bottom, width, height] as fractions of the figure size\n",
    "\n",
    "# Plot the current energy spectrum\n",
    "plt.plot(ihd_Fo_schedule, 'r<', label=f'ihd_Fo_schedule')\n",
    "plt.plot(np.unique(ihd_Fo_schedule), 'gx', label=f'unique ihd_Fo_schedule')\n",
    "\n",
    "# Add grid and labels\n",
    "ax.grid(True, which=\"both\", ls=\"--\")\n",
    "ax.set_xlabel(r\"input time\")\n",
    "ax.set_ylabel(r\"Fo\")\n",
    "\n",
    "plt.legend()\n",
    "# plt.close()"
   ]
  },
  {
   "cell_type": "code",
   "execution_count": 16,
   "metadata": {
    "colab": {
     "base_uri": "https://localhost:8080/",
     "height": 1000
    },
    "executionInfo": {
     "elapsed": 630,
     "status": "ok",
     "timestamp": 1731927564424,
     "user": {
      "displayName": "Michał Włodarczyk",
      "userId": "08384206839877546215"
     },
     "user_tz": -60
    },
    "id": "QSIygGSiqhj0",
    "outputId": "a5b116ee-30e5-4469-a5e6-328758ca1de4"
   },
   "outputs": [],
   "source": [
    "# corrupt_sched = exp_schedule(1, final_lbm_step, max_fwd_steps, dtype=int)\n",
    "dcorrupt_sched = np.linspace(1, 10, max_solver_steps, dtype=int)\n",
    "corrupt_sched =  np.array([0.] + list(np.cumsum(dcorrupt_sched))) # scan add\n",
    "# niu_sched = np.linspace(1E-3*1/6, 1/6, max_solver_steps).astype(np.float32)\n",
    "niu_sched = exp_schedule(1E-4*1/6, 1/6, max_solver_steps).astype(np.float32)\n",
    "\n",
    "Fo_schedule = calc_Fo_schedule(dcorrupt_sched, niu_sched, L)\n",
    "# Fo_schedule_unique = calc_Fo_schedule(np.unique(corrupt_sched), niu_sched, L)\n",
    "\n",
    "fig = plt.figure(figsize=(8, 8))\n",
    "\n",
    "# Create Axes with space for the title and labels\n",
    "ax = fig.add_axes([0.2, 0.2, 0.7, 0.7])  # [left, bottom, width, height] as fractions of the figure size\n",
    "\n",
    "# Plot the current energy spectrum\n",
    "plt.plot(corrupt_sched, Fo_schedule,  'rx', label=f'Fo_schedule')\n",
    "# plt.plot(np.unique(Fo_schedule_unique), 'gx', label=f'Fo_schedule_unique')\n",
    "\n",
    "# Add grid and labels\n",
    "ax.grid(True, which=\"both\", ls=\"--\")\n",
    "ax.set_xlabel(r\"lbm steps\")\n",
    "ax.set_ylabel(r\"Fo\")\n",
    "\n",
    "plt.legend()\n",
    "\n"
   ]
  },
  {
   "cell_type": "code",
   "execution_count": 17,
   "metadata": {
    "id": "QYRzWolKHsen"
   },
   "outputs": [],
   "source": [
    "import numpy as np\n",
    "\n",
    "def calculate_t_niu_array(Fo, niu_min, niu_max, L):\n",
    "  \"\"\"Calculates `t` and `niu` for each element in `Fo,\n",
    "  knowing that Fo=np.sqrt(2*t*niu)/(L*L).\n",
    "\n",
    "  Assumptions:\n",
    "    `t` and `niu` are both monotonically increasing.\n",
    "    `t` is a positive integer.\n",
    "    `niu` is a float within range `niu_min` and `niu_max`.\n",
    "    `L` is a positive float.\n",
    "    `Fo` is a NumPy array.\n",
    "\n",
    "  Args:\n",
    "    Fo: The NumPy array of `Fo` values.\n",
    "    niu_min: The minimum value of `niu`.\n",
    "    niu_max: The maximum value of `niu`.\n",
    "\n",
    "  Returns:\n",
    "    Two NumPy arrays containing the values of `t` and `niu`\n",
    "    corresponding to each element in `Fo`.\n",
    "  \"\"\"\n",
    "\n",
    "  dt_values = []\n",
    "  niu_values = []\n",
    "\n",
    "  realizable_dFo = []\n",
    "  niu_realizable_values= []\n",
    "\n",
    "  dt = 1.\n",
    "  for i in range(1, len(Fo)):\n",
    "    dFo = Fo[i] - Fo[i-1]\n",
    "\n",
    "    while True:\n",
    "      niu = ((L*L*dFo) **2 )/ (2 * dt)\n",
    "      if niu <= niu_max:\n",
    "        dt_values.append(dt)\n",
    "        niu_values.append(niu)\n",
    "\n",
    "        if niu < niu_min:\n",
    "          dFo_step_realizable = np.sqrt(2*dt*niu_min)/(L*L)\n",
    "          niu_realizable_values.append(niu_min)\n",
    "        else:\n",
    "          dFo_step_realizable = get_Fo_from_tc_niu_L(dt, niu, L)\n",
    "          niu_realizable_values.append(niu)\n",
    "\n",
    "        realizable_dFo.append(dFo_step_realizable)\n",
    "\n",
    "        break\n",
    "      else:\n",
    "        print(f\"niu out of range at i= {i} \\t dt={dt} niu={niu:.2e} \\t dFo={dFo:.2e}, Fo = {Fo[i]:.2e}\")\n",
    "      dt += 1\n",
    "\n",
    "      if dt > 100:\n",
    "        break\n",
    "\n",
    "  return np.array(dt_values), np.array(niu_values), np.array(niu_realizable_values), np.array(realizable_dFo)"
   ]
  },
  {
   "cell_type": "code",
   "execution_count": null,
   "metadata": {
    "colab": {
     "base_uri": "https://localhost:8080/",
     "height": 1000
    },
    "executionInfo": {
     "elapsed": 388,
     "status": "ok",
     "timestamp": 1731927564807,
     "user": {
      "displayName": "Michał Włodarczyk",
      "userId": "08384206839877546215"
     },
     "user_tz": -60
    },
    "id": "hw4nnx5gImF_",
    "outputId": "979befe0-6efd-42d1-e792-f6f66d1bc8d1"
   },
   "outputs": [],
   "source": []
  }
 ],
 "metadata": {
  "colab": {
   "provenance": [
    {
     "file_id": "14zPQkc8TmgizZ8IJ5upO4aOrp2-08e4y",
     "timestamp": 1731927384097
    }
   ],
   "toc_visible": true
  },
  "kernelspec": {
   "display_name": "ihd-env",
   "language": "python",
   "name": "python3"
  },
  "language_info": {
   "codemirror_mode": {
    "name": "ipython",
    "version": 3
   },
   "file_extension": ".py",
   "mimetype": "text/x-python",
   "name": "python",
   "nbconvert_exporter": "python",
   "pygments_lexer": "ipython3",
   "version": "3.11.9"
  }
 },
 "nbformat": 4,
 "nbformat_minor": 0
}
